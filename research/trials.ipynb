{
 "cells": [
  {
   "cell_type": "code",
   "execution_count": 1,
   "id": "6d1c3055-a43e-405c-8ca9-a80ca30f6ec5",
   "metadata": {},
   "outputs": [],
   "source": [
    "### Importing Necessary Libraries\n",
    "\n",
    "import pandas as pd\n",
    "import numpy as np\n",
    "\n",
    "from sklearn.metrics.pairwise import cosine_similarity\n",
    "\n",
    "import pickle\n",
    "\n",
    "pd.set_option('display.max_columns',None)\n",
    "\n",
    "import warnings\n",
    "warnings.filterwarnings('ignore')"
   ]
  },
  {
   "cell_type": "code",
   "execution_count": 2,
   "id": "2cc4f9c9-81bc-48b8-8690-63b3f2e69084",
   "metadata": {},
   "outputs": [],
   "source": [
    "### Loading the data\n",
    "\n",
    "books = pd.read_csv('books_df.csv')\n",
    "ratings = pd.read_csv('ratings_df.csv')"
   ]
  },
  {
   "cell_type": "markdown",
   "id": "405f4ecd-35c9-412d-acd9-45cb763cf011",
   "metadata": {},
   "source": [
    "### Preprocessing"
   ]
  },
  {
   "cell_type": "code",
   "execution_count": 4,
   "id": "1dfe2d0c-81f5-4b91-abbf-28ffdd612c02",
   "metadata": {},
   "outputs": [
    {
     "data": {
      "text/html": [
       "<div>\n",
       "<style scoped>\n",
       "    .dataframe tbody tr th:only-of-type {\n",
       "        vertical-align: middle;\n",
       "    }\n",
       "\n",
       "    .dataframe tbody tr th {\n",
       "        vertical-align: top;\n",
       "    }\n",
       "\n",
       "    .dataframe thead th {\n",
       "        text-align: right;\n",
       "    }\n",
       "</style>\n",
       "<table border=\"1\" class=\"dataframe\">\n",
       "  <thead>\n",
       "    <tr style=\"text-align: right;\">\n",
       "      <th></th>\n",
       "      <th>ISBN</th>\n",
       "      <th>num_of_ratings</th>\n",
       "    </tr>\n",
       "  </thead>\n",
       "  <tbody>\n",
       "    <tr>\n",
       "      <th>0</th>\n",
       "      <td>000649840X</td>\n",
       "      <td>89</td>\n",
       "    </tr>\n",
       "    <tr>\n",
       "      <th>1</th>\n",
       "      <td>002542730X</td>\n",
       "      <td>171</td>\n",
       "    </tr>\n",
       "    <tr>\n",
       "      <th>2</th>\n",
       "      <td>0028604199</td>\n",
       "      <td>76</td>\n",
       "    </tr>\n",
       "    <tr>\n",
       "      <th>3</th>\n",
       "      <td>0060096195</td>\n",
       "      <td>107</td>\n",
       "    </tr>\n",
       "    <tr>\n",
       "      <th>4</th>\n",
       "      <td>006016848X</td>\n",
       "      <td>147</td>\n",
       "    </tr>\n",
       "    <tr>\n",
       "      <th>...</th>\n",
       "      <td>...</td>\n",
       "      <td>...</td>\n",
       "    </tr>\n",
       "    <tr>\n",
       "      <th>1049</th>\n",
       "      <td>1576737330</td>\n",
       "      <td>99</td>\n",
       "    </tr>\n",
       "    <tr>\n",
       "      <th>1050</th>\n",
       "      <td>1592400876</td>\n",
       "      <td>120</td>\n",
       "    </tr>\n",
       "    <tr>\n",
       "      <th>1051</th>\n",
       "      <td>1857022424</td>\n",
       "      <td>71</td>\n",
       "    </tr>\n",
       "    <tr>\n",
       "      <th>1052</th>\n",
       "      <td>1878424319</td>\n",
       "      <td>133</td>\n",
       "    </tr>\n",
       "    <tr>\n",
       "      <th>1053</th>\n",
       "      <td>1931561648</td>\n",
       "      <td>75</td>\n",
       "    </tr>\n",
       "  </tbody>\n",
       "</table>\n",
       "<p>1054 rows × 2 columns</p>\n",
       "</div>"
      ],
      "text/plain": [
       "            ISBN  num_of_ratings\n",
       "0     000649840X              89\n",
       "1     002542730X             171\n",
       "2     0028604199              76\n",
       "3     0060096195             107\n",
       "4     006016848X             147\n",
       "...          ...             ...\n",
       "1049  1576737330              99\n",
       "1050  1592400876             120\n",
       "1051  1857022424              71\n",
       "1052  1878424319             133\n",
       "1053  1931561648              75\n",
       "\n",
       "[1054 rows x 2 columns]"
      ]
     },
     "execution_count": 4,
     "metadata": {},
     "output_type": "execute_result"
    }
   ],
   "source": [
    "#number of ratings for each book\n",
    "\n",
    "num_ratings_df = ratings.groupby('ISBN').count()['User-ID'].reset_index()\n",
    "num_ratings_df.rename(columns={'User-ID':'num_of_ratings'},inplace=True)\n",
    "num_ratings_df"
   ]
  },
  {
   "cell_type": "code",
   "execution_count": 5,
   "id": "56febddd-920a-400f-bc22-2a48c694f207",
   "metadata": {},
   "outputs": [
    {
     "data": {
      "text/html": [
       "<div>\n",
       "<style scoped>\n",
       "    .dataframe tbody tr th:only-of-type {\n",
       "        vertical-align: middle;\n",
       "    }\n",
       "\n",
       "    .dataframe tbody tr th {\n",
       "        vertical-align: top;\n",
       "    }\n",
       "\n",
       "    .dataframe thead th {\n",
       "        text-align: right;\n",
       "    }\n",
       "</style>\n",
       "<table border=\"1\" class=\"dataframe\">\n",
       "  <thead>\n",
       "    <tr style=\"text-align: right;\">\n",
       "      <th></th>\n",
       "      <th>ISBN</th>\n",
       "      <th>avg_rating</th>\n",
       "    </tr>\n",
       "  </thead>\n",
       "  <tbody>\n",
       "    <tr>\n",
       "      <th>0</th>\n",
       "      <td>000649840X</td>\n",
       "      <td>3.573034</td>\n",
       "    </tr>\n",
       "    <tr>\n",
       "      <th>1</th>\n",
       "      <td>002542730X</td>\n",
       "      <td>3.514620</td>\n",
       "    </tr>\n",
       "    <tr>\n",
       "      <th>2</th>\n",
       "      <td>0028604199</td>\n",
       "      <td>3.434211</td>\n",
       "    </tr>\n",
       "    <tr>\n",
       "      <th>3</th>\n",
       "      <td>0060096195</td>\n",
       "      <td>4.028037</td>\n",
       "    </tr>\n",
       "    <tr>\n",
       "      <th>4</th>\n",
       "      <td>006016848X</td>\n",
       "      <td>2.693878</td>\n",
       "    </tr>\n",
       "    <tr>\n",
       "      <th>...</th>\n",
       "      <td>...</td>\n",
       "      <td>...</td>\n",
       "    </tr>\n",
       "    <tr>\n",
       "      <th>1049</th>\n",
       "      <td>1576737330</td>\n",
       "      <td>3.222222</td>\n",
       "    </tr>\n",
       "    <tr>\n",
       "      <th>1050</th>\n",
       "      <td>1592400876</td>\n",
       "      <td>3.966667</td>\n",
       "    </tr>\n",
       "    <tr>\n",
       "      <th>1051</th>\n",
       "      <td>1857022424</td>\n",
       "      <td>3.859155</td>\n",
       "    </tr>\n",
       "    <tr>\n",
       "      <th>1052</th>\n",
       "      <td>1878424319</td>\n",
       "      <td>3.496241</td>\n",
       "    </tr>\n",
       "    <tr>\n",
       "      <th>1053</th>\n",
       "      <td>1931561648</td>\n",
       "      <td>4.200000</td>\n",
       "    </tr>\n",
       "  </tbody>\n",
       "</table>\n",
       "<p>1054 rows × 2 columns</p>\n",
       "</div>"
      ],
      "text/plain": [
       "            ISBN  avg_rating\n",
       "0     000649840X    3.573034\n",
       "1     002542730X    3.514620\n",
       "2     0028604199    3.434211\n",
       "3     0060096195    4.028037\n",
       "4     006016848X    2.693878\n",
       "...          ...         ...\n",
       "1049  1576737330    3.222222\n",
       "1050  1592400876    3.966667\n",
       "1051  1857022424    3.859155\n",
       "1052  1878424319    3.496241\n",
       "1053  1931561648    4.200000\n",
       "\n",
       "[1054 rows x 2 columns]"
      ]
     },
     "execution_count": 5,
     "metadata": {},
     "output_type": "execute_result"
    }
   ],
   "source": [
    "#average rating for each movie\n",
    "\n",
    "avg_ratings_df = ratings.groupby('ISBN').mean()['Book-Rating'].reset_index()\n",
    "avg_ratings_df.rename(columns={'Book-Rating':'avg_rating'},inplace=True)\n",
    "avg_ratings_df"
   ]
  },
  {
   "cell_type": "code",
   "execution_count": 6,
   "id": "14fb5c11-de03-43ea-9536-33290aa0ce77",
   "metadata": {},
   "outputs": [
    {
     "data": {
      "text/html": [
       "<div>\n",
       "<style scoped>\n",
       "    .dataframe tbody tr th:only-of-type {\n",
       "        vertical-align: middle;\n",
       "    }\n",
       "\n",
       "    .dataframe tbody tr th {\n",
       "        vertical-align: top;\n",
       "    }\n",
       "\n",
       "    .dataframe thead th {\n",
       "        text-align: right;\n",
       "    }\n",
       "</style>\n",
       "<table border=\"1\" class=\"dataframe\">\n",
       "  <thead>\n",
       "    <tr style=\"text-align: right;\">\n",
       "      <th></th>\n",
       "      <th>ISBN</th>\n",
       "      <th>num_of_ratings</th>\n",
       "      <th>avg_rating</th>\n",
       "    </tr>\n",
       "  </thead>\n",
       "  <tbody>\n",
       "    <tr>\n",
       "      <th>0</th>\n",
       "      <td>000649840X</td>\n",
       "      <td>89</td>\n",
       "      <td>3.573034</td>\n",
       "    </tr>\n",
       "    <tr>\n",
       "      <th>1</th>\n",
       "      <td>002542730X</td>\n",
       "      <td>171</td>\n",
       "      <td>3.514620</td>\n",
       "    </tr>\n",
       "    <tr>\n",
       "      <th>2</th>\n",
       "      <td>0028604199</td>\n",
       "      <td>76</td>\n",
       "      <td>3.434211</td>\n",
       "    </tr>\n",
       "    <tr>\n",
       "      <th>3</th>\n",
       "      <td>0060096195</td>\n",
       "      <td>107</td>\n",
       "      <td>4.028037</td>\n",
       "    </tr>\n",
       "    <tr>\n",
       "      <th>4</th>\n",
       "      <td>006016848X</td>\n",
       "      <td>147</td>\n",
       "      <td>2.693878</td>\n",
       "    </tr>\n",
       "    <tr>\n",
       "      <th>...</th>\n",
       "      <td>...</td>\n",
       "      <td>...</td>\n",
       "      <td>...</td>\n",
       "    </tr>\n",
       "    <tr>\n",
       "      <th>1049</th>\n",
       "      <td>1576737330</td>\n",
       "      <td>99</td>\n",
       "      <td>3.222222</td>\n",
       "    </tr>\n",
       "    <tr>\n",
       "      <th>1050</th>\n",
       "      <td>1592400876</td>\n",
       "      <td>120</td>\n",
       "      <td>3.966667</td>\n",
       "    </tr>\n",
       "    <tr>\n",
       "      <th>1051</th>\n",
       "      <td>1857022424</td>\n",
       "      <td>71</td>\n",
       "      <td>3.859155</td>\n",
       "    </tr>\n",
       "    <tr>\n",
       "      <th>1052</th>\n",
       "      <td>1878424319</td>\n",
       "      <td>133</td>\n",
       "      <td>3.496241</td>\n",
       "    </tr>\n",
       "    <tr>\n",
       "      <th>1053</th>\n",
       "      <td>1931561648</td>\n",
       "      <td>75</td>\n",
       "      <td>4.200000</td>\n",
       "    </tr>\n",
       "  </tbody>\n",
       "</table>\n",
       "<p>1054 rows × 3 columns</p>\n",
       "</div>"
      ],
      "text/plain": [
       "            ISBN  num_of_ratings  avg_rating\n",
       "0     000649840X              89    3.573034\n",
       "1     002542730X             171    3.514620\n",
       "2     0028604199              76    3.434211\n",
       "3     0060096195             107    4.028037\n",
       "4     006016848X             147    2.693878\n",
       "...          ...             ...         ...\n",
       "1049  1576737330              99    3.222222\n",
       "1050  1592400876             120    3.966667\n",
       "1051  1857022424              71    3.859155\n",
       "1052  1878424319             133    3.496241\n",
       "1053  1931561648              75    4.200000\n",
       "\n",
       "[1054 rows x 3 columns]"
      ]
     },
     "execution_count": 6,
     "metadata": {},
     "output_type": "execute_result"
    }
   ],
   "source": [
    "#merging both dataframes\n",
    "\n",
    "popular_df = num_ratings_df.merge(avg_ratings_df,on = 'ISBN')\n",
    "popular_df"
   ]
  },
  {
   "cell_type": "code",
   "execution_count": 7,
   "id": "8924f6d4-a109-45c2-9ec8-bf5a4c500185",
   "metadata": {},
   "outputs": [],
   "source": [
    "# merge with books df\n",
    "popular_df = popular_df.merge(books,on=['ISBN'])"
   ]
  },
  {
   "cell_type": "code",
   "execution_count": 8,
   "id": "6f7bf752-fb5c-4389-b718-e9a83363f239",
   "metadata": {},
   "outputs": [],
   "source": [
    "# sort with avg rating\n",
    "\n",
    "popular_df = popular_df.sort_values(by='avg_rating',ascending=False)"
   ]
  },
  {
   "cell_type": "code",
   "execution_count": 9,
   "id": "f87a4eab-3804-4d88-9532-cb89b1993dbd",
   "metadata": {},
   "outputs": [],
   "source": [
    "# getting the most popular books\n",
    "popular_df = popular_df[(popular_df['num_of_ratings']>=100) & (popular_df['avg_rating']>=4)]"
   ]
  },
  {
   "cell_type": "markdown",
   "id": "e90496a1-6f16-423c-8aa1-70db7972e059",
   "metadata": {},
   "source": [
    "### Collaborative filtering approach"
   ]
  },
  {
   "cell_type": "code",
   "execution_count": 11,
   "id": "609389ca-9819-4bfd-8b20-ec9d7c495524",
   "metadata": {},
   "outputs": [],
   "source": [
    "# collecting smart user with amny reviews\n",
    "x = ratings.groupby('User-ID').count()['ISBN']>=25\n",
    "smart_users = x[x].index"
   ]
  },
  {
   "cell_type": "code",
   "execution_count": 12,
   "id": "6c7a824e-8c67-4740-9cd3-3e8bccf2b5aa",
   "metadata": {},
   "outputs": [],
   "source": [
    "#store only their ratings\n",
    "filtered_ratings = ratings[ratings['User-ID'].isin(smart_users)]"
   ]
  },
  {
   "cell_type": "code",
   "execution_count": 13,
   "id": "3ac6550a-6857-42d1-ba39-44fec258ef46",
   "metadata": {},
   "outputs": [],
   "source": [
    "#collecting famous books\n",
    "\n",
    "y= filtered_ratings.groupby('ISBN').count()['User-ID']>=25\n",
    "famous_books = y[y].index"
   ]
  },
  {
   "cell_type": "code",
   "execution_count": 14,
   "id": "067c7a5f-ef1d-4aa7-9ee7-6f495f20715c",
   "metadata": {},
   "outputs": [],
   "source": [
    "# store only those books ratings\n",
    "\n",
    "final_ratings = filtered_ratings[filtered_ratings['ISBN'].isin(famous_books)]"
   ]
  },
  {
   "cell_type": "code",
   "execution_count": 15,
   "id": "fac3ede4-24a1-4ea2-a455-38f43aefdf44",
   "metadata": {},
   "outputs": [],
   "source": [
    "#creating a pivot table\n",
    "pt = final_ratings.pivot_table(index = 'ISBN',columns = 'User-ID',values = 'Book-Rating')"
   ]
  },
  {
   "cell_type": "code",
   "execution_count": 16,
   "id": "27a0ca65-4c1e-4b70-80e9-1f4659df197e",
   "metadata": {},
   "outputs": [],
   "source": [
    "pt.fillna(0,inplace=True)"
   ]
  },
  {
   "cell_type": "code",
   "execution_count": 17,
   "id": "2f1a9b51-8474-4b20-a5a3-b64cca554bb6",
   "metadata": {},
   "outputs": [],
   "source": [
    "books = books[books['ISBN'].isin(pt.index)]"
   ]
  },
  {
   "cell_type": "code",
   "execution_count": 18,
   "id": "ad5aafa9-1f0c-4ff7-b3cc-1f00f74923af",
   "metadata": {},
   "outputs": [],
   "source": [
    "# calcualting cosine simialrity of each book\n",
    "\n",
    "similarity_scores = cosine_similarity(pt)"
   ]
  },
  {
   "cell_type": "code",
   "execution_count": 19,
   "id": "83969830-1ebd-4c95-aa17-74c670496e9e",
   "metadata": {},
   "outputs": [],
   "source": [
    "# recommend function\n",
    "\n",
    "def recommend(book_name):\n",
    "    book_id = books[books['title']==book_name]['ISBN'].values[0]\n",
    "\n",
    "    if book_id not in pt.index:\n",
    "        print(\"Movie not found in pivot table.\")\n",
    "        return\n",
    "    book_index = np.where(pt.index == book_id)[0][0]\n",
    "\n",
    "    similar_items = sorted(list(enumerate(similarity_scores[book_index])),key=lambda x:x[1],reverse=True)[1:6]\n",
    "\n",
    "    for i in similar_items:\n",
    "        book_id = pt.index[i[0]]\n",
    "        print(books[books['ISBN']==book_id]['title'].values[0])"
   ]
  },
  {
   "cell_type": "code",
   "execution_count": 53,
   "id": "f4167ae7-d5e5-4ee1-ba72-1c50bf0ef06f",
   "metadata": {},
   "outputs": [],
   "source": [
    "# merging books with average and num rating\n",
    "\n",
    "books = books.merge(avg_ratings_df,on='ISBN')\n",
    "books = books.merge(num_ratings_df,on='ISBN')"
   ]
  },
  {
   "cell_type": "code",
   "execution_count": 57,
   "id": "2103386b-00aa-421f-981e-b66e8a5e9556",
   "metadata": {},
   "outputs": [],
   "source": [
    "# saving the files\n",
    "pickle.dump(popular_df,open('popular.pkl','wb'))\n",
    "pickle.dump(books,open('books.pkl','wb'))\n",
    "pickle.dump(pt,open('pt.pkl','wb'))\n",
    "pickle.dump(similarity_scores,open('similarity.pkl','wb'))"
   ]
  },
  {
   "cell_type": "code",
   "execution_count": 59,
   "id": "92e33144-8257-476c-b3bc-783b086cebfd",
   "metadata": {},
   "outputs": [],
   "source": [
    "books.to_csv('books.csv')"
   ]
  },
  {
   "cell_type": "code",
   "execution_count": 71,
   "id": "196c443d-8175-4343-adc4-fef2dd43c9e2",
   "metadata": {},
   "outputs": [
    {
     "data": {
      "text/plain": [
       "'John Grisham'"
      ]
     },
     "execution_count": 71,
     "metadata": {},
     "output_type": "execute_result"
    }
   ],
   "source": [
    "books[books['ISBN']=='0440234743']['author'].values[0]"
   ]
  },
  {
   "cell_type": "code",
   "execution_count": null,
   "id": "5fed9db9-12d3-4253-8b84-8f8b7132c911",
   "metadata": {},
   "outputs": [],
   "source": []
  }
 ],
 "metadata": {
  "kernelspec": {
   "display_name": "Python 3 (ipykernel)",
   "language": "python",
   "name": "python3"
  },
  "language_info": {
   "codemirror_mode": {
    "name": "ipython",
    "version": 3
   },
   "file_extension": ".py",
   "mimetype": "text/x-python",
   "name": "python",
   "nbconvert_exporter": "python",
   "pygments_lexer": "ipython3",
   "version": "3.12.4"
  }
 },
 "nbformat": 4,
 "nbformat_minor": 5
}
